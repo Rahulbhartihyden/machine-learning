{
 "cells": [
  {
   "cell_type": "markdown",
   "metadata": {},
   "source": [
    "# 1."
   ]
  },
  {
   "cell_type": "code",
   "execution_count": 1,
   "metadata": {},
   "outputs": [
    {
     "name": "stdout",
     "output_type": "stream",
     "text": [
      "spam\n"
     ]
    }
   ],
   "source": [
    "A='spam'\n",
    "B=A\n",
    "B=\"shruberry\"\n",
    "print(A)"
   ]
  },
  {
   "cell_type": "markdown",
   "metadata": {},
   "source": [
    "# 2."
   ]
  },
  {
   "cell_type": "code",
   "execution_count": 2,
   "metadata": {},
   "outputs": [
    {
     "name": "stdout",
     "output_type": "stream",
     "text": [
      "['shrubery']\n"
     ]
    }
   ],
   "source": [
    "A=['spam']\n",
    "B=A\n",
    "B[0]='shrubery'\n",
    "print(A)"
   ]
  },
  {
   "cell_type": "markdown",
   "metadata": {},
   "source": [
    "# 3."
   ]
  },
  {
   "cell_type": "code",
   "execution_count": 4,
   "metadata": {},
   "outputs": [
    {
     "name": "stdout",
     "output_type": "stream",
     "text": [
      "['spam']\n"
     ]
    }
   ],
   "source": [
    "A=['spam']\n",
    "B=A[:]\n",
    "B[0]='shrubbery'\n",
    "print(A)"
   ]
  },
  {
   "cell_type": "markdown",
   "metadata": {},
   "source": [
    "# 4."
   ]
  },
  {
   "cell_type": "code",
   "execution_count": 8,
   "metadata": {},
   "outputs": [
    {
     "name": "stdout",
     "output_type": "stream",
     "text": [
      "enter the name:Rahul\n",
      "hello Rahul\n"
     ]
    }
   ],
   "source": [
    "hello=input('enter the name:')\n",
    "print('hello'+\" \"+hello)"
   ]
  },
  {
   "cell_type": "markdown",
   "metadata": {},
   "source": [
    "# 5."
   ]
  },
  {
   "cell_type": "code",
   "execution_count": 9,
   "metadata": {},
   "outputs": [
    {
     "name": "stdout",
     "output_type": "stream",
     "text": [
      "enter the length:10\n",
      "enter the breadth:10\n",
      "100 sq.cm\n"
     ]
    }
   ],
   "source": [
    "length=int(input(\"enter the length:\"))\n",
    "breadth=int(input('enter the breadth:'))\n",
    "area=length*breadth\n",
    "print(area,'sq.cm')"
   ]
  },
  {
   "cell_type": "markdown",
   "metadata": {},
   "source": [
    "# 6."
   ]
  },
  {
   "cell_type": "code",
   "execution_count": 1,
   "metadata": {},
   "outputs": [
    {
     "name": "stdout",
     "output_type": "stream",
     "text": [
      "enter the number:10\n",
      "55.0\n"
     ]
    }
   ],
   "source": [
    "n=int(input(\"enter the number:\"))\n",
    "sum=(n)*(n+1)/2\n",
    "print(sum)"
   ]
  },
  {
   "cell_type": "markdown",
   "metadata": {},
   "source": [
    "# 7."
   ]
  },
  {
   "cell_type": "code",
   "execution_count": 2,
   "metadata": {},
   "outputs": [
    {
     "name": "stdout",
     "output_type": "stream",
     "text": [
      "enter the first number:3\n",
      "enter the second number2\n",
      "5\n",
      "-1\n",
      "6\n",
      "1.5\n",
      "1\n",
      "9\n"
     ]
    }
   ],
   "source": [
    "a=int(input(\"enter the first number:\"))\n",
    "b=int(input(\"enter the second number\"))\n",
    "z=a+b\n",
    "print(z)\n",
    "y=b-a\n",
    "print(y)\n",
    "x=a*b\n",
    "print(x)\n",
    "v=a/b\n",
    "print(v)\n",
    "u=a%b\n",
    "print(u)\n",
    "r=a**b\n",
    "print(r)"
   ]
  },
  {
   "cell_type": "markdown",
   "metadata": {},
   "source": [
    "# 8."
   ]
  },
  {
   "cell_type": "code",
   "execution_count": 5,
   "metadata": {},
   "outputs": [
    {
     "name": "stdout",
     "output_type": "stream",
     "text": [
      "enter the height in feet:5.5\n",
      "167.64000000000001\n"
     ]
    }
   ],
   "source": [
    "n=float(input(\"enter the height in feet:\"))\n",
    "z=(n*12)*2.54\n",
    "print(z)"
   ]
  },
  {
   "cell_type": "markdown",
   "metadata": {},
   "source": [
    "# 9."
   ]
  },
  {
   "cell_type": "code",
   "execution_count": 6,
   "metadata": {},
   "outputs": [
    {
     "name": "stdout",
     "output_type": "stream",
     "text": [
      "Enter first digit:5\n",
      "Enter second digit:8\n",
      "Enter third digit:3\n"
     ]
    }
   ],
   "source": [
    "a=int(input(\"Enter first digit:\"))\n",
    "b=int(input(\"Enter second digit:\"))\n",
    "c=int(input(\"Enter third digit:\"))"
   ]
  },
  {
   "cell_type": "code",
   "execution_count": 11,
   "metadata": {},
   "outputs": [
    {
     "data": {
      "text/plain": [
       "8"
      ]
     },
     "execution_count": 11,
     "metadata": {},
     "output_type": "execute_result"
    }
   ],
   "source": [
    "y=max(a,b,c)\n",
    "y"
   ]
  },
  {
   "cell_type": "code",
   "execution_count": 12,
   "metadata": {},
   "outputs": [
    {
     "data": {
      "text/plain": [
       "3"
      ]
     },
     "execution_count": 12,
     "metadata": {},
     "output_type": "execute_result"
    }
   ],
   "source": [
    "x=min(a,b,c)\n",
    "x"
   ]
  },
  {
   "cell_type": "code",
   "execution_count": 13,
   "metadata": {},
   "outputs": [
    {
     "data": {
      "text/plain": [
       "5"
      ]
     },
     "execution_count": 13,
     "metadata": {},
     "output_type": "execute_result"
    }
   ],
   "source": [
    "z=(a+b+c)-y-x\n",
    "z"
   ]
  },
  {
   "cell_type": "markdown",
   "metadata": {},
   "source": [
    "# 10."
   ]
  },
  {
   "cell_type": "code",
   "execution_count": 28,
   "metadata": {},
   "outputs": [
    {
     "name": "stdout",
     "output_type": "stream",
     "text": [
      "enter the month:6\n",
      "entr the year:2018\n",
      "30\n"
     ]
    }
   ],
   "source": [
    "def month_year(month,year):\n",
    "        year= year%4\n",
    "        if month in [1,3,5,7,8,10,12]:\n",
    "            print(31)\n",
    "        elif month in [2,4,6,9,11]:\n",
    "            print(30)\n",
    "        elif year==0  and month==2:\n",
    "            print(29)\n",
    "        elif year!=0 and month==2:\n",
    "            print(28)\n",
    "x=int(input(\"enter the month:\"))  \n",
    "y=int(input(\"entr the year:\"))\n",
    "month_year(x,y)\n",
    "\n",
    "                    "
   ]
  },
  {
   "cell_type": "markdown",
   "metadata": {},
   "source": [
    "# 11."
   ]
  },
  {
   "cell_type": "code",
   "execution_count": 42,
   "metadata": {},
   "outputs": [
    {
     "data": {
      "text/plain": [
       "11.166666666666666"
      ]
     },
     "execution_count": 42,
     "metadata": {},
     "output_type": "execute_result"
    }
   ],
   "source": [
    "import statistics\n",
    "list=[]\n",
    "list.append(10)\n",
    "list.append(15)\n",
    "list.append(14)\n",
    "\n",
    "list.append(7)\n",
    "list.append(8)\n",
    "list.append(13)\n",
    "list\n",
    "statistics.mean(list)\n",
    "\n",
    "\n",
    "\n"
   ]
  },
  {
   "cell_type": "markdown",
   "metadata": {},
   "source": [
    "# 12."
   ]
  },
  {
   "cell_type": "code",
   "execution_count": 44,
   "metadata": {},
   "outputs": [
    {
     "name": "stdout",
     "output_type": "stream",
     "text": [
      "enter the number:9\n",
      "root of 9 is 3.0096153846153846\n"
     ]
    }
   ],
   "source": [
    "x=int(input(\"enter the number:\"))\n",
    "guess=x/2\n",
    "while (guess*guess-x>1):\n",
    "    guess=(guess+x/guess)/2\n",
    "print(\"root of\",x,\"is\",guess)    "
   ]
  },
  {
   "cell_type": "markdown",
   "metadata": {},
   "source": [
    "# 13."
   ]
  },
  {
   "cell_type": "code",
   "execution_count": 46,
   "metadata": {},
   "outputs": [
    {
     "name": "stdout",
     "output_type": "stream",
     "text": [
      "enter the number:3\n",
      "3\n",
      "3\n",
      "9\n",
      "9\n",
      "4.242640687119285\n"
     ]
    }
   ],
   "source": [
    "import math\n",
    "a=int(input(\"enter the number:\"))\n",
    "print(a)\n",
    "b=a\n",
    "print(b)\n",
    "sqrt1=a**(2)\n",
    "print(sqrt1)\n",
    "sqrt2=b**(2)\n",
    "print(sqrt2)\n",
    "c=sqrt1+sqrt2\n",
    "d=math.sqrt(c)\n",
    "print(d)"
   ]
  },
  {
   "cell_type": "markdown",
   "metadata": {},
   "source": [
    "# 14."
   ]
  },
  {
   "cell_type": "code",
   "execution_count": 55,
   "metadata": {},
   "outputs": [
    {
     "name": "stdout",
     "output_type": "stream",
     "text": [
      "enter the number:10\n",
      "enter the number:9\n",
      "enter the number:7\n",
      "9\n"
     ]
    }
   ],
   "source": [
    "def r_median(x,y,z):\n",
    "    a=max(x,y,z)\n",
    "    b=min(x,y,z)\n",
    "    median =(x+y+z)-a-b\n",
    "    return median\n",
    "x=int(input(\"enter the number:\"))\n",
    "y=int(input(\"enter the number:\"))\n",
    "z=int(input(\"enter the number:\"))\n",
    "r=r_median(x,y,z)\n",
    "print(r)"
   ]
  },
  {
   "cell_type": "markdown",
   "metadata": {},
   "source": [
    "# 15."
   ]
  },
  {
   "cell_type": "code",
   "execution_count": 60,
   "metadata": {},
   "outputs": [
    {
     "name": "stdout",
     "output_type": "stream",
     "text": [
      "enter the string:i am bhumika\n"
     ]
    },
    {
     "data": {
      "text/plain": [
       "'I am bhumika'"
      ]
     },
     "execution_count": 60,
     "metadata": {},
     "output_type": "execute_result"
    }
   ],
   "source": [
    "def r_string(string):\n",
    "    string=string.capitalize()\n",
    "    string=string.replace(' i ','I')\n",
    "    return string\n",
    "string=input(\"enter the string:\")\n",
    "r_string(string)"
   ]
  },
  {
   "cell_type": "markdown",
   "metadata": {},
   "source": [
    "# 16."
   ]
  },
  {
   "cell_type": "code",
   "execution_count": 32,
   "metadata": {},
   "outputs": [
    {
     "name": "stdout",
     "output_type": "stream",
     "text": [
      "0 5 5 V X S\n"
     ]
    }
   ],
   "source": [
    "from random import randint\n",
    "a=randint(0,9)\n",
    "b=randint(0,9)\n",
    "c=randint(0,9)\n",
    "my_string='ABCDEFGHIJKLMNOPQRSTUVWXYZ'\n",
    "letter1=randint(0,25)\n",
    "l1=my_string[letter1]\n",
    "letter2=randint(0,25)\n",
    "l2=my_string[letter2]\n",
    "letter3=randint(0,25)\n",
    "l3=my_string[letter3]\n",
    "print(a,b,c,l1,l2,l3)"
   ]
  },
  {
   "cell_type": "markdown",
   "metadata": {},
   "source": [
    "# 17."
   ]
  },
  {
   "cell_type": "code",
   "execution_count": 64,
   "metadata": {},
   "outputs": [
    {
     "name": "stdout",
     "output_type": "stream",
     "text": [
      "enter the number:5\n",
      "enter the number:6\n",
      "enter the number:9\n",
      "enter the number:0\n",
      "5\n",
      "6\n",
      "9\n"
     ]
    }
   ],
   "source": [
    "my_list=[]\n",
    "x=1\n",
    "while x != 0:\n",
    "    x=int(input(\"enter the number:\"))\n",
    "    my_list.append(x)\n",
    "my_list.pop()\n",
    "for r in range(0,len(my_list)):\n",
    "    print(my_list[r])\n"
   ]
  },
  {
   "cell_type": "markdown",
   "metadata": {},
   "source": [
    "# 18."
   ]
  },
  {
   "cell_type": "code",
   "execution_count": 65,
   "metadata": {},
   "outputs": [
    {
     "data": {
      "text/plain": [
       "'W'"
      ]
     },
     "execution_count": 65,
     "metadata": {},
     "output_type": "execute_result"
    }
   ],
   "source": [
    "school_name=\"Washington-Lee H.S.\"\n",
    "school_name[0]"
   ]
  },
  {
   "cell_type": "code",
   "execution_count": 66,
   "metadata": {},
   "outputs": [
    {
     "data": {
      "text/plain": [
       "'g'"
      ]
     },
     "execution_count": 66,
     "metadata": {},
     "output_type": "execute_result"
    }
   ],
   "source": [
    "school_name[6]"
   ]
  },
  {
   "cell_type": "code",
   "execution_count": 68,
   "metadata": {},
   "outputs": [
    {
     "data": {
      "text/plain": [
       "'hingt'"
      ]
     },
     "execution_count": 68,
     "metadata": {},
     "output_type": "execute_result"
    }
   ],
   "source": [
    "school_name[3:8]"
   ]
  },
  {
   "cell_type": "code",
   "execution_count": 69,
   "metadata": {},
   "outputs": [
    {
     "data": {
      "text/plain": [
       "'Washington'"
      ]
     },
     "execution_count": 69,
     "metadata": {},
     "output_type": "execute_result"
    }
   ],
   "source": [
    "school_name[:10]"
   ]
  },
  {
   "cell_type": "code",
   "execution_count": 70,
   "metadata": {},
   "outputs": [
    {
     "data": {
      "text/plain": [
       "'H.S.'"
      ]
     },
     "execution_count": 70,
     "metadata": {},
     "output_type": "execute_result"
    }
   ],
   "source": [
    "school_name[15:]"
   ]
  },
  {
   "cell_type": "code",
   "execution_count": 71,
   "metadata": {},
   "outputs": [
    {
     "ename": "IndexError",
     "evalue": "string index out of range",
     "output_type": "error",
     "traceback": [
      "\u001b[1;31m---------------------------------------------------------------------------\u001b[0m",
      "\u001b[1;31mIndexError\u001b[0m                                Traceback (most recent call last)",
      "\u001b[1;32m<ipython-input-71-f5c64fc06d12>\u001b[0m in \u001b[0;36m<module>\u001b[1;34m()\u001b[0m\n\u001b[1;32m----> 1\u001b[1;33m \u001b[0mschool_name\u001b[0m\u001b[1;33m[\u001b[0m\u001b[1;36m19\u001b[0m\u001b[1;33m]\u001b[0m\u001b[1;33m\u001b[0m\u001b[0m\n\u001b[0m",
      "\u001b[1;31mIndexError\u001b[0m: string index out of range"
     ]
    }
   ],
   "source": [
    "school_name[19]"
   ]
  },
  {
   "cell_type": "code",
   "execution_count": 72,
   "metadata": {},
   "outputs": [
    {
     "data": {
      "text/plain": [
       "19"
      ]
     },
     "execution_count": 72,
     "metadata": {},
     "output_type": "execute_result"
    }
   ],
   "source": [
    "len(school_name)"
   ]
  },
  {
   "cell_type": "code",
   "execution_count": 73,
   "metadata": {},
   "outputs": [
    {
     "data": {
      "text/plain": [
       "1"
      ]
     },
     "execution_count": 73,
     "metadata": {},
     "output_type": "execute_result"
    }
   ],
   "source": [
    "len(\" \")"
   ]
  },
  {
   "cell_type": "code",
   "execution_count": 74,
   "metadata": {},
   "outputs": [
    {
     "data": {
      "text/plain": [
       "'Lee'"
      ]
     },
     "execution_count": 74,
     "metadata": {},
     "output_type": "execute_result"
    }
   ],
   "source": [
    "school_name[11:14]"
   ]
  },
  {
   "cell_type": "code",
   "execution_count": 76,
   "metadata": {},
   "outputs": [
    {
     "data": {
      "text/plain": [
       "6"
      ]
     },
     "execution_count": 76,
     "metadata": {},
     "output_type": "execute_result"
    }
   ],
   "source": [
    "r='sample'\n",
    "len(r)"
   ]
  },
  {
   "cell_type": "code",
   "execution_count": 77,
   "metadata": {},
   "outputs": [
    {
     "data": {
      "text/plain": [
       "'e'"
      ]
     },
     "execution_count": 77,
     "metadata": {},
     "output_type": "execute_result"
    }
   ],
   "source": [
    "r[-1]"
   ]
  },
  {
   "cell_type": "code",
   "execution_count": 78,
   "metadata": {},
   "outputs": [
    {
     "data": {
      "text/plain": [
       "'The quick brown fox jump over the lazy dog'"
      ]
     },
     "execution_count": 78,
     "metadata": {},
     "output_type": "execute_result"
    }
   ],
   "source": [
    "s='The quick brown fox jump over the lazy dog'\n",
    "s"
   ]
  },
  {
   "cell_type": "code",
   "execution_count": 79,
   "metadata": {},
   "outputs": [
    {
     "data": {
      "text/plain": [
       "'T'"
      ]
     },
     "execution_count": 79,
     "metadata": {},
     "output_type": "execute_result"
    }
   ],
   "source": [
    "s[0]"
   ]
  },
  {
   "cell_type": "code",
   "execution_count": 80,
   "metadata": {},
   "outputs": [
    {
     "data": {
      "text/plain": [
       "'q'"
      ]
     },
     "execution_count": 80,
     "metadata": {},
     "output_type": "execute_result"
    }
   ],
   "source": [
    "s[4]"
   ]
  },
  {
   "cell_type": "code",
   "execution_count": 81,
   "metadata": {},
   "outputs": [
    {
     "data": {
      "text/plain": [
       "'x'"
      ]
     },
     "execution_count": 81,
     "metadata": {},
     "output_type": "execute_result"
    }
   ],
   "source": [
    "s[18]"
   ]
  },
  {
   "cell_type": "code",
   "execution_count": 82,
   "metadata": {},
   "outputs": [
    {
     "data": {
      "text/plain": [
       "'brown '"
      ]
     },
     "execution_count": 82,
     "metadata": {},
     "output_type": "execute_result"
    }
   ],
   "source": [
    "s[10:16]"
   ]
  },
  {
   "cell_type": "code",
   "execution_count": 83,
   "metadata": {},
   "outputs": [
    {
     "data": {
      "text/plain": [
       "'lazy'"
      ]
     },
     "execution_count": 83,
     "metadata": {},
     "output_type": "execute_result"
    }
   ],
   "source": [
    "s[34:38]"
   ]
  },
  {
   "cell_type": "code",
   "execution_count": 84,
   "metadata": {},
   "outputs": [
    {
     "data": {
      "text/plain": [
       "'jump over the lazy dog'"
      ]
     },
     "execution_count": 84,
     "metadata": {},
     "output_type": "execute_result"
    }
   ],
   "source": [
    "s[20:]"
   ]
  },
  {
   "cell_type": "code",
   "execution_count": 85,
   "metadata": {},
   "outputs": [
    {
     "name": "stdout",
     "output_type": "stream",
     "text": [
      "T\n",
      "h\n",
      "e\n",
      " \n",
      "q\n",
      "u\n",
      "i\n",
      "c\n",
      "k\n",
      " \n",
      "b\n",
      "r\n",
      "o\n",
      "w\n",
      "n\n",
      " \n",
      "f\n",
      "o\n",
      "x\n",
      " \n",
      "j\n",
      "u\n",
      "m\n",
      "p\n",
      " \n",
      "o\n",
      "v\n",
      "e\n",
      "r\n",
      " \n",
      "t\n",
      "h\n",
      "e\n",
      " \n",
      "l\n",
      "a\n",
      "z\n",
      "y\n",
      " \n",
      "d\n",
      "o\n",
      "g\n"
     ]
    }
   ],
   "source": [
    "for x in s:\n",
    "    print(x)"
   ]
  },
  {
   "cell_type": "code",
   "execution_count": 86,
   "metadata": {},
   "outputs": [
    {
     "data": {
      "text/plain": [
       "'god yzal eht revo pmuj xof nworb kciuq ehT'"
      ]
     },
     "execution_count": 86,
     "metadata": {},
     "output_type": "execute_result"
    }
   ],
   "source": [
    "s1=s[::-1]\n",
    "s1"
   ]
  },
  {
   "cell_type": "code",
   "execution_count": 87,
   "metadata": {},
   "outputs": [
    {
     "name": "stdout",
     "output_type": "stream",
     "text": [
      "g\n",
      "o\n",
      "d\n",
      " \n",
      "y\n",
      "z\n",
      "a\n",
      "l\n",
      " \n",
      "e\n",
      "h\n",
      "t\n",
      " \n",
      "r\n",
      "e\n",
      "v\n",
      "o\n",
      " \n",
      "p\n",
      "m\n",
      "u\n",
      "j\n",
      " \n",
      "x\n",
      "o\n",
      "f\n",
      " \n",
      "n\n",
      "w\n",
      "o\n",
      "r\n",
      "b\n",
      " \n",
      "k\n",
      "c\n",
      "i\n",
      "u\n",
      "q\n",
      " \n",
      "e\n",
      "h\n",
      "T\n"
     ]
    }
   ],
   "source": [
    "for x in s1:\n",
    "    print(x)"
   ]
  },
  {
   "cell_type": "markdown",
   "metadata": {},
   "source": [
    "# 19."
   ]
  },
  {
   "cell_type": "code",
   "execution_count": 17,
   "metadata": {},
   "outputs": [
    {
     "name": "stdout",
     "output_type": "stream",
     "text": [
      "{'A': ',-', 'B': '-...', 'C': '-.-.', 'D': '-..', 'E': '.', 'F': '..-.', 'G': '--.', 'H': '....', 'I': '..', 'J': '.---', 'K': '-.-', 'L': '.-..', 'M': '--', 'N': '-.', 'O': '---', 'P': '.--.', 'Q': '--.-', 'R': '.-.', 'S': '...', 'T': '-', 'U': ',-', 'V': '...-', 'W': '.--', 'X': '-..-', 'Y': '-.--', 'Z': '--..', '0': '-----', '1': '.----', '2': '..---', '3': '...--', '4': '....-', '5': '.....', '6': '-....', '7': '--...', '8': '---..', '9': '----.'}\n",
      "A --> ,-\n",
      "B --> -...\n",
      "C --> -.-.\n",
      "D --> -..\n",
      "E --> .\n",
      "F --> ..-.\n",
      "G --> --.\n",
      "H --> ....\n",
      "I --> ..\n",
      "J --> .---\n",
      "K --> -.-\n",
      "L --> .-..\n",
      "M --> --\n",
      "N --> -.\n",
      "O --> ---\n",
      "P --> .--.\n",
      "Q --> --.-\n",
      "R --> .-.\n",
      "S --> ...\n",
      "T --> -\n",
      "U --> ,-\n",
      "V --> ...-\n",
      "W --> .--\n",
      "X --> -..-\n",
      "Y --> -.--\n",
      "Z --> --..\n",
      "0 --> -----\n",
      "1 --> .----\n",
      "2 --> ..---\n",
      "3 --> ...--\n",
      "4 --> ....-\n",
      "5 --> .....\n",
      "6 --> -....\n",
      "7 --> --...\n",
      "8 --> ---..\n",
      "9 --> ----.\n",
      "enter the string:HELLOWORLD\n",
      ".... . .-.. .-.. --- .-- --- .-. .-.. -.. "
     ]
    }
   ],
   "source": [
    "dic={}\n",
    "dic['A']=',-'\n",
    "dic['B']='-...'\n",
    "dic['C']='-.-.'\n",
    "dic['D']='-..'\n",
    "dic['E']='.'\n",
    "dic['F']='..-.'\n",
    "dic['G']='--.'\n",
    "dic['H']='....'\n",
    "dic['I']='..'\n",
    "dic['J']='.---'\n",
    "dic['K']='-.-'\n",
    "dic['L']='.-..'\n",
    "dic['M']='--'\n",
    "dic['N']='-.'\n",
    "dic['O']='---'\n",
    "dic['P']='.--.'\n",
    "dic['Q']='--.-'\n",
    "dic['R']='.-.'\n",
    "dic['S']='...'\n",
    "dic['T']='-'\n",
    "dic['U']=',-'\n",
    "dic['V']='...-'\n",
    "dic['W']='.--'\n",
    "dic['X']='-..-'\n",
    "dic['Y']='-.--'\n",
    "dic['Z']='--..'\n",
    "dic['0']='-----'\n",
    "dic['1']='.----'\n",
    "dic['2']='..---'\n",
    "dic['3']='...--'\n",
    "dic['4']='....-'\n",
    "dic['5']='.....'\n",
    "dic['6']='-....'\n",
    "dic['7']='--...'\n",
    "dic['8']='---..'\n",
    "dic['9']='----.'\n",
    "\n",
    "\n",
    "print(dic)\n",
    "for i in dic:\n",
    "    print(i,\"-->\",dic[i])\n",
    "a=input(\"enter the string:\")\n",
    "for r in a:\n",
    "    print(dic[r],end=\" \")"
   ]
  },
  {
   "cell_type": "markdown",
   "metadata": {},
   "source": [
    "# 20."
   ]
  },
  {
   "cell_type": "code",
   "execution_count": 21,
   "metadata": {},
   "outputs": [
    {
     "name": "stdout",
     "output_type": "stream",
     "text": [
      "enter the string:bhumika\n",
      "['b', 'h', 'u', 'm', 'i', 'k', 'a']\n"
     ]
    },
    {
     "data": {
      "text/plain": [
       "7"
      ]
     },
     "execution_count": 21,
     "metadata": {},
     "output_type": "execute_result"
    }
   ],
   "source": [
    "n=input('enter the string:')\n",
    "list=[]\n",
    "for i in n:\n",
    "    if i not in list :\n",
    "        list.append(i)\n",
    "print(list)   \n",
    "len(list)"
   ]
  },
  {
   "cell_type": "markdown",
   "metadata": {},
   "source": [
    "# 21."
   ]
  },
  {
   "cell_type": "code",
   "execution_count": 33,
   "metadata": {},
   "outputs": [
    {
     "name": "stdout",
     "output_type": "stream",
     "text": [
      "enter the number:10\n",
      "10\n",
      "10\n",
      "100\n",
      "100\n",
      "14.142135623730951\n"
     ]
    }
   ],
   "source": [
    "import math\n",
    "a=int(input(\"enter the number:\"))\n",
    "print(a)\n",
    "b=a\n",
    "print(b)\n",
    "sqrt1=a**(2)\n",
    "print(sqrt1)\n",
    "sqrt2=b**(2)\n",
    "print(sqrt2)\n",
    "c=sqrt1+sqrt2\n",
    "d=math.sqrt(c)\n",
    "print(d)"
   ]
  },
  {
   "cell_type": "markdown",
   "metadata": {},
   "source": [
    "# 22."
   ]
  },
  {
   "cell_type": "code",
   "execution_count": 26,
   "metadata": {},
   "outputs": [
    {
     "name": "stdout",
     "output_type": "stream",
     "text": [
      "enter the string:rhdkhdkrhgkurhkdrgr\n",
      "enter width:10\n",
      "rhdkhdkrhgkurhkdrgr\n"
     ]
    }
   ],
   "source": [
    "string=input('enter the string:')\n",
    "width=int(input(\"enter width:\"))\n",
    "if width<=len(string):\n",
    "    for i in range(width-len(string)):\n",
    "        print(\" \",end=\" \")\n",
    "    print(string)\n",
    "else:\n",
    "    print(\"width is smaller than string\")"
   ]
  },
  {
   "cell_type": "markdown",
   "metadata": {},
   "source": [
    "# 23."
   ]
  },
  {
   "cell_type": "code",
   "execution_count": 29,
   "metadata": {},
   "outputs": [
    {
     "name": "stdout",
     "output_type": "stream",
     "text": [
      "enter string:23\n",
      "it contain a integer value\n"
     ]
    }
   ],
   "source": [
    "string=input(\"enter string:\")\n",
    "if int(string)== True:\n",
    "    print('it is a integer value')\n",
    "    print(string)\n",
    "else:\n",
    "    print('it contain a integer value')\n"
   ]
  },
  {
   "cell_type": "markdown",
   "metadata": {},
   "source": [
    "# 24."
   ]
  },
  {
   "cell_type": "code",
   "execution_count": 30,
   "metadata": {},
   "outputs": [
    {
     "name": "stdout",
     "output_type": "stream",
     "text": [
      "False\n"
     ]
    }
   ],
   "source": [
    "def test_prime(n):\n",
    "    if (n==1):\n",
    "        return False\n",
    "    elif (n==2):\n",
    "        return True;\n",
    "    else:\n",
    "        for x in range(2,n):\n",
    "            if(n % x==0):\n",
    "                return False\n",
    "        return True             \n",
    "print(test_prime(9))"
   ]
  },
  {
   "cell_type": "markdown",
   "metadata": {},
   "source": [
    "# 25."
   ]
  },
  {
   "cell_type": "code",
   "execution_count": 31,
   "metadata": {},
   "outputs": [
    {
     "name": "stdout",
     "output_type": "stream",
     "text": [
      "enter the month:9\n",
      "entr the year:2018\n",
      "30\n"
     ]
    }
   ],
   "source": [
    "def month_year(month,year):\n",
    "        year= year%4\n",
    "        if month in [1,3,5,7,8,10,12]:\n",
    "            print(31)\n",
    "        elif month in [2,4,6,9,11]:\n",
    "            print(30)\n",
    "        elif year==0  and month==2:\n",
    "            print(29)\n",
    "        elif year!=0 and month==2:\n",
    "            print(28)\n",
    "x=int(input(\"enter the month:\"))  \n",
    "y=int(input(\"entr the year:\"))\n",
    "month_year(x,y)\n",
    "\n",
    "                    "
   ]
  },
  {
   "cell_type": "markdown",
   "metadata": {},
   "source": [
    "# COMPLETE"
   ]
  },
  {
   "cell_type": "code",
   "execution_count": null,
   "metadata": {},
   "outputs": [],
   "source": []
  }
 ],
 "metadata": {
  "kernelspec": {
   "display_name": "Python 3",
   "language": "python",
   "name": "python3"
  },
  "language_info": {
   "codemirror_mode": {
    "name": "ipython",
    "version": 3
   },
   "file_extension": ".py",
   "mimetype": "text/x-python",
   "name": "python",
   "nbconvert_exporter": "python",
   "pygments_lexer": "ipython3",
   "version": "3.6.5"
  }
 },
 "nbformat": 4,
 "nbformat_minor": 2
}
