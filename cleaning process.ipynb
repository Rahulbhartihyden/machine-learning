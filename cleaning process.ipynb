{
 "cells": [
  {
   "cell_type": "code",
   "execution_count": null,
   "metadata": {},
   "outputs": [],
   "source": []
  },
  {
   "cell_type": "code",
   "execution_count": 2,
   "metadata": {},
   "outputs": [],
   "source": [
    "import pandas as pd\n",
    "import numpy as np"
   ]
  },
  {
   "cell_type": "code",
   "execution_count": 3,
   "metadata": {},
   "outputs": [
    {
     "data": {
      "text/html": [
       "<div>\n",
       "<style scoped>\n",
       "    .dataframe tbody tr th:only-of-type {\n",
       "        vertical-align: middle;\n",
       "    }\n",
       "\n",
       "    .dataframe tbody tr th {\n",
       "        vertical-align: top;\n",
       "    }\n",
       "\n",
       "    .dataframe thead th {\n",
       "        text-align: right;\n",
       "    }\n",
       "</style>\n",
       "<table border=\"1\" class=\"dataframe\">\n",
       "  <thead>\n",
       "    <tr style=\"text-align: right;\">\n",
       "      <th></th>\n",
       "      <th>RM</th>\n",
       "      <th>LSTAT</th>\n",
       "      <th>PTRATIO</th>\n",
       "      <th>MEDV</th>\n",
       "    </tr>\n",
       "  </thead>\n",
       "  <tbody>\n",
       "    <tr>\n",
       "      <th>0</th>\n",
       "      <td>6.575</td>\n",
       "      <td>4.98</td>\n",
       "      <td>15.3</td>\n",
       "      <td>504000.0</td>\n",
       "    </tr>\n",
       "    <tr>\n",
       "      <th>1</th>\n",
       "      <td>6.421</td>\n",
       "      <td>9.14</td>\n",
       "      <td>17.8</td>\n",
       "      <td>453600.0</td>\n",
       "    </tr>\n",
       "    <tr>\n",
       "      <th>2</th>\n",
       "      <td>7.185</td>\n",
       "      <td>4.03</td>\n",
       "      <td>17.8</td>\n",
       "      <td>728700.0</td>\n",
       "    </tr>\n",
       "    <tr>\n",
       "      <th>3</th>\n",
       "      <td>6.998</td>\n",
       "      <td>2.94</td>\n",
       "      <td>18.7</td>\n",
       "      <td>701400.0</td>\n",
       "    </tr>\n",
       "    <tr>\n",
       "      <th>4</th>\n",
       "      <td>7.147</td>\n",
       "      <td>5.33</td>\n",
       "      <td>18.7</td>\n",
       "      <td>760200.0</td>\n",
       "    </tr>\n",
       "  </tbody>\n",
       "</table>\n",
       "</div>"
      ],
      "text/plain": [
       "      RM  LSTAT  PTRATIO      MEDV\n",
       "0  6.575   4.98     15.3  504000.0\n",
       "1  6.421   9.14     17.8  453600.0\n",
       "2  7.185   4.03     17.8  728700.0\n",
       "3  6.998   2.94     18.7  701400.0\n",
       "4  7.147   5.33     18.7  760200.0"
      ]
     },
     "execution_count": 3,
     "metadata": {},
     "output_type": "execute_result"
    }
   ],
   "source": [
    "df=pd.read_csv(\"./boston_housing.csv\")\n",
    "df.head()"
   ]
  },
  {
   "cell_type": "code",
   "execution_count": 4,
   "metadata": {},
   "outputs": [
    {
     "name": "stdout",
     "output_type": "stream",
     "text": [
      "<class 'pandas.core.frame.DataFrame'>\n",
      "RangeIndex: 489 entries, 0 to 488\n",
      "Data columns (total 4 columns):\n",
      "RM         489 non-null float64\n",
      "LSTAT      489 non-null float64\n",
      "PTRATIO    489 non-null float64\n",
      "MEDV       489 non-null float64\n",
      "dtypes: float64(4)\n",
      "memory usage: 15.4 KB\n"
     ]
    }
   ],
   "source": [
    "df.info()"
   ]
  },
  {
   "cell_type": "code",
   "execution_count": 5,
   "metadata": {},
   "outputs": [
    {
     "data": {
      "text/html": [
       "<div>\n",
       "<style scoped>\n",
       "    .dataframe tbody tr th:only-of-type {\n",
       "        vertical-align: middle;\n",
       "    }\n",
       "\n",
       "    .dataframe tbody tr th {\n",
       "        vertical-align: top;\n",
       "    }\n",
       "\n",
       "    .dataframe thead th {\n",
       "        text-align: right;\n",
       "    }\n",
       "</style>\n",
       "<table border=\"1\" class=\"dataframe\">\n",
       "  <thead>\n",
       "    <tr style=\"text-align: right;\">\n",
       "      <th></th>\n",
       "      <th>RM</th>\n",
       "      <th>LSTAT</th>\n",
       "      <th>PTRATIO</th>\n",
       "      <th>MEDV</th>\n",
       "    </tr>\n",
       "  </thead>\n",
       "  <tbody>\n",
       "    <tr>\n",
       "      <th>count</th>\n",
       "      <td>489.000000</td>\n",
       "      <td>489.000000</td>\n",
       "      <td>489.000000</td>\n",
       "      <td>4.890000e+02</td>\n",
       "    </tr>\n",
       "    <tr>\n",
       "      <th>mean</th>\n",
       "      <td>6.240288</td>\n",
       "      <td>12.939632</td>\n",
       "      <td>18.516564</td>\n",
       "      <td>4.543429e+05</td>\n",
       "    </tr>\n",
       "    <tr>\n",
       "      <th>std</th>\n",
       "      <td>0.643650</td>\n",
       "      <td>7.081990</td>\n",
       "      <td>2.111268</td>\n",
       "      <td>1.653403e+05</td>\n",
       "    </tr>\n",
       "    <tr>\n",
       "      <th>min</th>\n",
       "      <td>3.561000</td>\n",
       "      <td>1.980000</td>\n",
       "      <td>12.600000</td>\n",
       "      <td>1.050000e+05</td>\n",
       "    </tr>\n",
       "    <tr>\n",
       "      <th>25%</th>\n",
       "      <td>5.880000</td>\n",
       "      <td>7.370000</td>\n",
       "      <td>17.400000</td>\n",
       "      <td>3.507000e+05</td>\n",
       "    </tr>\n",
       "    <tr>\n",
       "      <th>50%</th>\n",
       "      <td>6.185000</td>\n",
       "      <td>11.690000</td>\n",
       "      <td>19.100000</td>\n",
       "      <td>4.389000e+05</td>\n",
       "    </tr>\n",
       "    <tr>\n",
       "      <th>75%</th>\n",
       "      <td>6.575000</td>\n",
       "      <td>17.120000</td>\n",
       "      <td>20.200000</td>\n",
       "      <td>5.187000e+05</td>\n",
       "    </tr>\n",
       "    <tr>\n",
       "      <th>max</th>\n",
       "      <td>8.398000</td>\n",
       "      <td>37.970000</td>\n",
       "      <td>22.000000</td>\n",
       "      <td>1.024800e+06</td>\n",
       "    </tr>\n",
       "  </tbody>\n",
       "</table>\n",
       "</div>"
      ],
      "text/plain": [
       "               RM       LSTAT     PTRATIO          MEDV\n",
       "count  489.000000  489.000000  489.000000  4.890000e+02\n",
       "mean     6.240288   12.939632   18.516564  4.543429e+05\n",
       "std      0.643650    7.081990    2.111268  1.653403e+05\n",
       "min      3.561000    1.980000   12.600000  1.050000e+05\n",
       "25%      5.880000    7.370000   17.400000  3.507000e+05\n",
       "50%      6.185000   11.690000   19.100000  4.389000e+05\n",
       "75%      6.575000   17.120000   20.200000  5.187000e+05\n",
       "max      8.398000   37.970000   22.000000  1.024800e+06"
      ]
     },
     "execution_count": 5,
     "metadata": {},
     "output_type": "execute_result"
    }
   ],
   "source": [
    "df.describe()"
   ]
  },
  {
   "cell_type": "code",
   "execution_count": 6,
   "metadata": {},
   "outputs": [],
   "source": [
    "from sklearn.model_selection import train_test_split\n"
   ]
  },
  {
   "cell_type": "code",
   "execution_count": 7,
   "metadata": {},
   "outputs": [],
   "source": [
    "X=df.iloc[:,:-1]\n",
    "y=df.iloc[:,-1]"
   ]
  },
  {
   "cell_type": "code",
   "execution_count": 10,
   "metadata": {},
   "outputs": [],
   "source": [
    "X_train,y_train,X_test,y_test=train_test_split(X,y,test_size=0.2,random_state=123)"
   ]
  },
  {
   "cell_type": "code",
   "execution_count": 11,
   "metadata": {},
   "outputs": [],
   "source": [
    "import xgboost as xgb"
   ]
  },
  {
   "cell_type": "code",
   "execution_count": 12,
   "metadata": {},
   "outputs": [],
   "source": [
    "xg_reg=xgb.XGBRegressor(objective=\"reg:linear\",n_estimators=10,seed=123)"
   ]
  },
  {
   "cell_type": "code",
   "execution_count": 19,
   "metadata": {},
   "outputs": [
    {
     "data": {
      "text/plain": [
       "30035747563.163445"
      ]
     },
     "execution_count": 19,
     "metadata": {},
     "output_type": "execute_result"
    }
   ],
   "source": [
    "xg_reg.fit(X_train,y_train)\n",
    "preds=xg_reg.predict(X_test)\n",
    "from sklearn.metrics import mean_squared_error\n",
    "mean_squared_error(y_test,preds)"
   ]
  },
  {
   "cell_type": "code",
   "execution_count": 21,
   "metadata": {},
   "outputs": [
    {
     "data": {
      "text/html": [
       "<div>\n",
       "<style scoped>\n",
       "    .dataframe tbody tr th:only-of-type {\n",
       "        vertical-align: middle;\n",
       "    }\n",
       "\n",
       "    .dataframe tbody tr th {\n",
       "        vertical-align: top;\n",
       "    }\n",
       "\n",
       "    .dataframe thead th {\n",
       "        text-align: right;\n",
       "    }\n",
       "</style>\n",
       "<table border=\"1\" class=\"dataframe\">\n",
       "  <thead>\n",
       "    <tr style=\"text-align: right;\">\n",
       "      <th></th>\n",
       "      <th>RM</th>\n",
       "      <th>LSTAT</th>\n",
       "      <th>PTRATIO</th>\n",
       "      <th>MEDV</th>\n",
       "    </tr>\n",
       "  </thead>\n",
       "  <tbody>\n",
       "    <tr>\n",
       "      <th>0</th>\n",
       "      <td>6.575</td>\n",
       "      <td>4.98</td>\n",
       "      <td>15.3</td>\n",
       "      <td>504000.0</td>\n",
       "    </tr>\n",
       "    <tr>\n",
       "      <th>1</th>\n",
       "      <td>6.421</td>\n",
       "      <td>9.14</td>\n",
       "      <td>17.8</td>\n",
       "      <td>453600.0</td>\n",
       "    </tr>\n",
       "    <tr>\n",
       "      <th>2</th>\n",
       "      <td>7.185</td>\n",
       "      <td>4.03</td>\n",
       "      <td>17.8</td>\n",
       "      <td>728700.0</td>\n",
       "    </tr>\n",
       "    <tr>\n",
       "      <th>3</th>\n",
       "      <td>6.998</td>\n",
       "      <td>2.94</td>\n",
       "      <td>18.7</td>\n",
       "      <td>701400.0</td>\n",
       "    </tr>\n",
       "    <tr>\n",
       "      <th>4</th>\n",
       "      <td>7.147</td>\n",
       "      <td>5.33</td>\n",
       "      <td>18.7</td>\n",
       "      <td>760200.0</td>\n",
       "    </tr>\n",
       "  </tbody>\n",
       "</table>\n",
       "</div>"
      ],
      "text/plain": [
       "      RM  LSTAT  PTRATIO      MEDV\n",
       "0  6.575   4.98     15.3  504000.0\n",
       "1  6.421   9.14     17.8  453600.0\n",
       "2  7.185   4.03     17.8  728700.0\n",
       "3  6.998   2.94     18.7  701400.0\n",
       "4  7.147   5.33     18.7  760200.0"
      ]
     },
     "execution_count": 21,
     "metadata": {},
     "output_type": "execute_result"
    }
   ],
   "source": [
    "boston_data = pd.read_csv(\"./boston_housing.csv\")\n",
    "boston_data.head()\n"
   ]
  },
  {
   "cell_type": "code",
   "execution_count": 23,
   "metadata": {},
   "outputs": [
    {
     "name": "stdout",
     "output_type": "stream",
     "text": [
      "<class 'pandas.core.frame.DataFrame'>\n",
      "RangeIndex: 489 entries, 0 to 488\n",
      "Data columns (total 4 columns):\n",
      "RM         489 non-null float64\n",
      "LSTAT      489 non-null float64\n",
      "PTRATIO    489 non-null float64\n",
      "MEDV       489 non-null float64\n",
      "dtypes: float64(4)\n",
      "memory usage: 15.4 KB\n"
     ]
    }
   ],
   "source": [
    "boston_data.info()"
   ]
  },
  {
   "cell_type": "code",
   "execution_count": 22,
   "metadata": {},
   "outputs": [
    {
     "name": "stdout",
     "output_type": "stream",
     "text": [
      "RMSE: 173308.244360\n"
     ]
    }
   ],
   "source": [
    "X, y = boston_data.iloc[:,:-1],boston_data.iloc[:,-1] \n",
    "X_train, X_test, y_train, y_test= train_test_split(X, y,\n",
    "test_size=0.2, random_state=123)\n",
    "xg_reg = xgb.XGBRegressor(objective='reg:linear',\n",
    "n_estimators=10, seed=123)\n",
    "\n",
    "xg_reg.fit(X_train,y_train)\n",
    "preds = xg_reg.predict(X_test)\n",
    "\n",
    "from sklearn.metrics import mean_squared_error\n",
    "rmse = np.sqrt(mean_squared_error(y_test,preds))\n",
    "print(\"RMSE: %f\" % (rmse))"
   ]
  },
  {
   "cell_type": "code",
   "execution_count": 27,
   "metadata": {},
   "outputs": [],
   "source": [
    "DM_train=xgb.DMatrix(data=X_train,label=y_train)\n",
    "DM_test=xgb.DMatrix(data=X_test,label=y_test)\n",
    "params = {\"booster\":\"gblinear\",\"objective\":\"reg:linear\"}\n",
    "xg_reg=xgb.train(params=params,dtrain=DM_train,num_boost_round=10)\n",
    "preds=xg_reg.predict(DM_test)\n",
    "rmse=np.sqrt(mean_squared_error(y_test,preds))"
   ]
  },
  {
   "cell_type": "code",
   "execution_count": 28,
   "metadata": {},
   "outputs": [
    {
     "name": "stdout",
     "output_type": "stream",
     "text": [
      "98285.81588285\n"
     ]
    }
   ],
   "source": [
    "print(rmse)"
   ]
  },
  {
   "cell_type": "code",
   "execution_count": 30,
   "metadata": {},
   "outputs": [
    {
     "name": "stdout",
     "output_type": "stream",
     "text": [
      "<class 'pandas.core.frame.DataFrame'>\n",
      "UNTuned rmse: 75460.746094\n"
     ]
    }
   ],
   "source": [
    "housing_data = pd.read_csv(\"./boston_housing.csv\")\n",
    "X,y = housing_data[housing_data.columns.tolist()[:-1]], housing_data[housing_data.columns.tolist()[-1]]\n",
    "housing_dmatrix = xgb.DMatrix(data=X,label=y)\n",
    "untuned_params = {\"objective\":\"reg:linear\"}\n",
    "tuned_cv_results_rmse = xgb.cv(dtrain=housing_dmatrix, params=untuned_params, nfold=4, num_boost_round=200, metrics=\"rmse\",as_pandas=True, seed=123)\n",
    "print(type(tuned_cv_results_rmse))\n",
    "print(\"UNTuned rmse: %f\" %((tuned_cv_results_rmse[\"test-rmse-mean\"]).tail(1)))"
   ]
  },
  {
   "cell_type": "code",
   "execution_count": 31,
   "metadata": {},
   "outputs": [
    {
     "name": "stdout",
     "output_type": "stream",
     "text": [
      "Tuned rmse: 75514.861328\n"
     ]
    }
   ],
   "source": [
    "housing_data = pd.read_csv(\"./boston_housing.csv\")\n",
    "X,y = housing_data[housing_data.columns.tolist()[:-1]], housing_data[housing_data.columns.tolist()[-1]]\n",
    "housing_dmatrix = xgb.DMatrix(data=X,label=y)\n",
    "tuned_params = {\"objective\":\"reg:linear\",'colsample_bytree': 0.3, 'learning_rate': 0.1, 'max_depth': 5}\n",
    "tuned_cv_results_rmse = xgb.cv(dtrain=housing_dmatrix, params=tuned_params, nfold=4, num_boost_round=200, metrics=\"rmse\",as_pandas=True, seed=123)\n",
    "print(\"Tuned rmse: %f\" %((tuned_cv_results_rmse[\"test-rmse-mean\"]).tail(1)))"
   ]
  },
  {
   "cell_type": "code",
   "execution_count": 32,
   "metadata": {},
   "outputs": [
    {
     "name": "stdout",
     "output_type": "stream",
     "text": [
      "<class 'pandas.core.frame.DataFrame'>\n",
      "UNTuned rmse: 33288.916504\n"
     ]
    }
   ],
   "source": [
    "housing_data = pd.read_csv(\"./ames_housing_trimmed_processed.csv\")\n",
    "X,y = housing_data[housing_data.columns.tolist()[:-1]], housing_data[housing_data.columns.tolist()[-1]]\n",
    "housing_dmatrix = xgb.DMatrix(data=X,label=y)\n",
    "untuned_params = {\"objective\":\"reg:linear\"}\n",
    "tuned_cv_results_rmse = xgb.cv(dtrain=housing_dmatrix, params=untuned_params, nfold=4, num_boost_round=200, metrics=\"rmse\",as_pandas=True, seed=123)\n",
    "print(type(tuned_cv_results_rmse))\n",
    "print(\"UNTuned rmse: %f\" %((tuned_cv_results_rmse[\"test-rmse-mean\"]).tail(1)))"
   ]
  },
  {
   "cell_type": "code",
   "execution_count": 33,
   "metadata": {},
   "outputs": [
    {
     "name": "stdout",
     "output_type": "stream",
     "text": [
      "Tuned rmse: 31442.437012\n"
     ]
    }
   ],
   "source": [
    "housing_data = pd.read_csv(\"./ames_housing_trimmed_processed.csv\")\n",
    "X,y = housing_data[housing_data.columns.tolist()[:-1]], housing_data[housing_data.columns.tolist()[-1]]\n",
    "housing_dmatrix = xgb.DMatrix(data=X,label=y)\n",
    "tuned_params = {\"objective\":\"reg:linear\",'colsample_bytree': 0.3, 'learning_rate': 0.1, 'max_depth': 5}\n",
    "tuned_cv_results_rmse = xgb.cv(dtrain=housing_dmatrix, params=tuned_params, nfold=4, num_boost_round=200, metrics=\"rmse\",as_pandas=True, seed=123)\n",
    "print(\"Tuned rmse: %f\" %((tuned_cv_results_rmse[\"test-rmse-mean\"]).tail(1)))"
   ]
  },
  {
   "cell_type": "code",
   "execution_count": 34,
   "metadata": {},
   "outputs": [
    {
     "data": {
      "text/html": [
       "<div>\n",
       "<style scoped>\n",
       "    .dataframe tbody tr th:only-of-type {\n",
       "        vertical-align: middle;\n",
       "    }\n",
       "\n",
       "    .dataframe tbody tr th {\n",
       "        vertical-align: top;\n",
       "    }\n",
       "\n",
       "    .dataframe thead th {\n",
       "        text-align: right;\n",
       "    }\n",
       "</style>\n",
       "<table border=\"1\" class=\"dataframe\">\n",
       "  <thead>\n",
       "    <tr style=\"text-align: right;\">\n",
       "      <th></th>\n",
       "      <th>Unnamed: 0</th>\n",
       "      <th>age</th>\n",
       "      <th>bp</th>\n",
       "      <th>sg</th>\n",
       "      <th>al</th>\n",
       "      <th>su</th>\n",
       "      <th>bgr</th>\n",
       "      <th>bu</th>\n",
       "      <th>sc</th>\n",
       "      <th>sod</th>\n",
       "      <th>...</th>\n",
       "      <th>pc</th>\n",
       "      <th>pcc</th>\n",
       "      <th>ba</th>\n",
       "      <th>htn</th>\n",
       "      <th>dm</th>\n",
       "      <th>cad</th>\n",
       "      <th>appet</th>\n",
       "      <th>pe</th>\n",
       "      <th>ane</th>\n",
       "      <th>class</th>\n",
       "    </tr>\n",
       "  </thead>\n",
       "  <tbody>\n",
       "    <tr>\n",
       "      <th>0</th>\n",
       "      <td>0</td>\n",
       "      <td>48</td>\n",
       "      <td>80</td>\n",
       "      <td>1.020</td>\n",
       "      <td>1</td>\n",
       "      <td>0</td>\n",
       "      <td>?</td>\n",
       "      <td>normal</td>\n",
       "      <td>notpresent</td>\n",
       "      <td>notpresent</td>\n",
       "      <td>...</td>\n",
       "      <td>44</td>\n",
       "      <td>7800</td>\n",
       "      <td>5.2</td>\n",
       "      <td>yes</td>\n",
       "      <td>yes</td>\n",
       "      <td>no</td>\n",
       "      <td>good</td>\n",
       "      <td>no</td>\n",
       "      <td>no</td>\n",
       "      <td>ckd</td>\n",
       "    </tr>\n",
       "    <tr>\n",
       "      <th>1</th>\n",
       "      <td>1</td>\n",
       "      <td>7</td>\n",
       "      <td>50</td>\n",
       "      <td>1.020</td>\n",
       "      <td>4</td>\n",
       "      <td>0</td>\n",
       "      <td>?</td>\n",
       "      <td>normal</td>\n",
       "      <td>notpresent</td>\n",
       "      <td>notpresent</td>\n",
       "      <td>...</td>\n",
       "      <td>38</td>\n",
       "      <td>6000</td>\n",
       "      <td>?</td>\n",
       "      <td>no</td>\n",
       "      <td>no</td>\n",
       "      <td>no</td>\n",
       "      <td>good</td>\n",
       "      <td>no</td>\n",
       "      <td>no</td>\n",
       "      <td>ckd</td>\n",
       "    </tr>\n",
       "    <tr>\n",
       "      <th>2</th>\n",
       "      <td>2</td>\n",
       "      <td>62</td>\n",
       "      <td>80</td>\n",
       "      <td>1.010</td>\n",
       "      <td>2</td>\n",
       "      <td>3</td>\n",
       "      <td>normal</td>\n",
       "      <td>normal</td>\n",
       "      <td>notpresent</td>\n",
       "      <td>notpresent</td>\n",
       "      <td>...</td>\n",
       "      <td>31</td>\n",
       "      <td>7500</td>\n",
       "      <td>?</td>\n",
       "      <td>no</td>\n",
       "      <td>yes</td>\n",
       "      <td>no</td>\n",
       "      <td>poor</td>\n",
       "      <td>no</td>\n",
       "      <td>yes</td>\n",
       "      <td>ckd</td>\n",
       "    </tr>\n",
       "    <tr>\n",
       "      <th>3</th>\n",
       "      <td>3</td>\n",
       "      <td>48</td>\n",
       "      <td>70</td>\n",
       "      <td>1.005</td>\n",
       "      <td>4</td>\n",
       "      <td>0</td>\n",
       "      <td>normal</td>\n",
       "      <td>abnormal</td>\n",
       "      <td>present</td>\n",
       "      <td>notpresent</td>\n",
       "      <td>...</td>\n",
       "      <td>32</td>\n",
       "      <td>6700</td>\n",
       "      <td>3.9</td>\n",
       "      <td>yes</td>\n",
       "      <td>no</td>\n",
       "      <td>no</td>\n",
       "      <td>poor</td>\n",
       "      <td>yes</td>\n",
       "      <td>yes</td>\n",
       "      <td>ckd</td>\n",
       "    </tr>\n",
       "    <tr>\n",
       "      <th>4</th>\n",
       "      <td>4</td>\n",
       "      <td>51</td>\n",
       "      <td>80</td>\n",
       "      <td>1.010</td>\n",
       "      <td>2</td>\n",
       "      <td>0</td>\n",
       "      <td>normal</td>\n",
       "      <td>normal</td>\n",
       "      <td>notpresent</td>\n",
       "      <td>notpresent</td>\n",
       "      <td>...</td>\n",
       "      <td>35</td>\n",
       "      <td>7300</td>\n",
       "      <td>4.6</td>\n",
       "      <td>no</td>\n",
       "      <td>no</td>\n",
       "      <td>no</td>\n",
       "      <td>good</td>\n",
       "      <td>no</td>\n",
       "      <td>no</td>\n",
       "      <td>ckd</td>\n",
       "    </tr>\n",
       "  </tbody>\n",
       "</table>\n",
       "<p>5 rows × 26 columns</p>\n",
       "</div>"
      ],
      "text/plain": [
       "   Unnamed: 0 age  bp     sg al su     bgr        bu          sc         sod  \\\n",
       "0           0  48  80  1.020  1  0       ?    normal  notpresent  notpresent   \n",
       "1           1   7  50  1.020  4  0       ?    normal  notpresent  notpresent   \n",
       "2           2  62  80  1.010  2  3  normal    normal  notpresent  notpresent   \n",
       "3           3  48  70  1.005  4  0  normal  abnormal     present  notpresent   \n",
       "4           4  51  80  1.010  2  0  normal    normal  notpresent  notpresent   \n",
       "\n",
       "   ...   pc   pcc   ba  htn   dm cad appet   pe  ane class  \n",
       "0  ...   44  7800  5.2  yes  yes  no  good   no   no   ckd  \n",
       "1  ...   38  6000    ?   no   no  no  good   no   no   ckd  \n",
       "2  ...   31  7500    ?   no  yes  no  poor   no  yes   ckd  \n",
       "3  ...   32  6700  3.9  yes   no  no  poor  yes  yes   ckd  \n",
       "4  ...   35  7300  4.6   no   no  no  good   no   no   ckd  \n",
       "\n",
       "[5 rows x 26 columns]"
      ]
     },
     "execution_count": 34,
     "metadata": {},
     "output_type": "execute_result"
    }
   ],
   "source": [
    "dd=pd.read_csv(\"./chronic_kidney_with_class.csv\")\n",
    "dd.head()"
   ]
  },
  {
   "cell_type": "code",
   "execution_count": 35,
   "metadata": {},
   "outputs": [
    {
     "name": "stdout",
     "output_type": "stream",
     "text": [
      "<class 'pandas.core.frame.DataFrame'>\n",
      "RangeIndex: 400 entries, 0 to 399\n",
      "Data columns (total 26 columns):\n",
      "Unnamed: 0    400 non-null int64\n",
      "age           400 non-null object\n",
      "bp            400 non-null object\n",
      "sg            400 non-null object\n",
      "al            400 non-null object\n",
      "su            400 non-null object\n",
      "bgr           400 non-null object\n",
      "bu            400 non-null object\n",
      "sc            400 non-null object\n",
      "sod           400 non-null object\n",
      "pot           400 non-null object\n",
      "hemo          400 non-null object\n",
      "pcv           400 non-null object\n",
      "wc            400 non-null object\n",
      "rc            400 non-null object\n",
      "rbc           400 non-null object\n",
      "pc            400 non-null object\n",
      "pcc           400 non-null object\n",
      "ba            400 non-null object\n",
      "htn           400 non-null object\n",
      "dm            400 non-null object\n",
      "cad           400 non-null object\n",
      "appet         400 non-null object\n",
      "pe            400 non-null object\n",
      "ane           400 non-null object\n",
      "class         400 non-null object\n",
      "dtypes: int64(1), object(25)\n",
      "memory usage: 81.3+ KB\n"
     ]
    }
   ],
   "source": [
    "dd.info()"
   ]
  },
  {
   "cell_type": "code",
   "execution_count": 37,
   "metadata": {},
   "outputs": [
    {
     "name": "stdout",
     "output_type": "stream",
     "text": [
      "  age  bp     sg al su     bgr        bu          sc         sod  pot  ...   \\\n",
      "0  48  80  1.020  1  0       ?    normal  notpresent  notpresent  121  ...    \n",
      "1   7  50  1.020  4  0       ?    normal  notpresent  notpresent    ?  ...    \n",
      "2  62  80  1.010  2  3  normal    normal  notpresent  notpresent  423  ...    \n",
      "3  48  70  1.005  4  0  normal  abnormal     present  notpresent  117  ...    \n",
      "4  51  80  1.010  2  0  normal    normal  notpresent  notpresent  106  ...    \n",
      "\n",
      "   pc   pcc   ba  htn   dm cad appet   pe  ane class  \n",
      "0  44  7800  5.2  yes  yes  no  good   no   no   ckd  \n",
      "1  38  6000    ?   no   no  no  good   no   no   ckd  \n",
      "2  31  7500    ?   no  yes  no  poor   no  yes   ckd  \n",
      "3  32  6700  3.9  yes   no  no  poor  yes  yes   ckd  \n",
      "4  35  7300  4.6   no   no  no  good   no   no   ckd  \n",
      "\n",
      "[5 rows x 25 columns]\n",
      "   age  bp  sg  al  su  bgr  bu  sc  sod  pot  ...    pc  pcc  ba  htn  dm  \\\n",
      "0   36   8   3   1   0    0   2   1    1   21  ...    30   69  33    2   3   \n",
      "1   60   5   3   4   0    0   2   1    1  146  ...    24   53  48    1   2   \n",
      "2   52   8   1   2   3    2   2   1    1  114  ...    17   67  48    1   3   \n",
      "3   36   7   0   4   0    2   1   2    1   17  ...    18   59  18    2   2   \n",
      "4   40   8   1   2   0    2   2   1    1    6  ...    21   65  26    1   2   \n",
      "\n",
      "   cad  appet  pe  ane  class  \n",
      "0    1      1   1    1      0  \n",
      "1    1      1   1    1      0  \n",
      "2    1      2   1    2      0  \n",
      "3    1      2   2    2      0  \n",
      "4    1      1   1    1      0  \n",
      "\n",
      "[5 rows x 25 columns]\n"
     ]
    }
   ],
   "source": [
    "from sklearn.preprocessing import LabelEncoder\n",
    "\n",
    "\n",
    "# Create a boolean mask for categorical columns\n",
    "categorical_mask = (dd.dtypes == 'object')\n",
    "\n",
    "# Get list of categorical column names\n",
    "categorical_columns = dd.columns[categorical_mask].tolist()\n",
    "\n",
    "# Print the head of the categorical columns\n",
    "print(dd[categorical_columns].head())\n",
    "\n",
    "# Create LabelEncoder object: le\n",
    "le = LabelEncoder()\n",
    "\n",
    "# Apply LabelEncoder to categorical columns\n",
    "dd[categorical_columns] = dd[categorical_columns].apply(lambda x: le.fit_transform(x))\n",
    "\n",
    "# Print the head of the LabelEncoded categorical columns\n",
    "print(dd[categorical_columns].head())\n",
    "# print()"
   ]
  },
  {
   "cell_type": "code",
   "execution_count": 39,
   "metadata": {},
   "outputs": [
    {
     "name": "stdout",
     "output_type": "stream",
     "text": [
      "     0    1    2    3    4    5    6    7    8    9    ...    864  865  866  \\\n",
      "0    0.0  0.0  0.0  0.0  0.0  0.0  0.0  0.0  0.0  0.0  ...    0.0  0.0  1.0   \n",
      "1    0.0  0.0  0.0  0.0  0.0  0.0  0.0  0.0  0.0  0.0  ...    0.0  0.0  1.0   \n",
      "2    0.0  0.0  0.0  0.0  0.0  0.0  0.0  0.0  0.0  0.0  ...    1.0  0.0  1.0   \n",
      "3    0.0  0.0  0.0  0.0  0.0  0.0  0.0  0.0  0.0  0.0  ...    1.0  0.0  0.0   \n",
      "4    0.0  0.0  0.0  0.0  0.0  0.0  0.0  0.0  0.0  0.0  ...    0.0  0.0  1.0   \n",
      "5    0.0  0.0  0.0  0.0  0.0  0.0  0.0  0.0  0.0  0.0  ...    0.0  0.0  0.0   \n",
      "6    0.0  0.0  0.0  0.0  0.0  0.0  0.0  0.0  0.0  0.0  ...    0.0  0.0  1.0   \n",
      "7    0.0  0.0  0.0  0.0  0.0  0.0  0.0  0.0  0.0  0.0  ...    0.0  0.0  0.0   \n",
      "8    0.0  0.0  0.0  0.0  0.0  0.0  0.0  0.0  0.0  0.0  ...    0.0  0.0  1.0   \n",
      "9    0.0  0.0  0.0  0.0  0.0  0.0  0.0  0.0  0.0  0.0  ...    1.0  0.0  1.0   \n",
      "10   0.0  0.0  0.0  0.0  0.0  0.0  0.0  0.0  0.0  0.0  ...    0.0  0.0  1.0   \n",
      "11   0.0  0.0  0.0  0.0  0.0  0.0  0.0  0.0  0.0  0.0  ...    1.0  0.0  0.0   \n",
      "12   0.0  0.0  0.0  0.0  0.0  0.0  0.0  0.0  0.0  0.0  ...    1.0  0.0  0.0   \n",
      "13   0.0  0.0  0.0  0.0  0.0  0.0  0.0  0.0  0.0  0.0  ...    1.0  0.0  0.0   \n",
      "14   0.0  0.0  0.0  0.0  0.0  0.0  0.0  0.0  0.0  0.0  ...    1.0  0.0  0.0   \n",
      "15   0.0  0.0  0.0  0.0  0.0  0.0  0.0  0.0  0.0  0.0  ...    0.0  0.0  1.0   \n",
      "16   0.0  0.0  0.0  0.0  0.0  0.0  0.0  0.0  0.0  0.0  ...    0.0  0.0  1.0   \n",
      "17   0.0  0.0  0.0  0.0  0.0  0.0  0.0  0.0  0.0  0.0  ...    1.0  0.0  1.0   \n",
      "18   0.0  0.0  0.0  0.0  0.0  0.0  0.0  0.0  0.0  0.0  ...    0.0  0.0  1.0   \n",
      "19   0.0  0.0  0.0  0.0  0.0  0.0  0.0  0.0  0.0  0.0  ...    0.0  0.0  1.0   \n",
      "20   0.0  0.0  0.0  0.0  0.0  0.0  0.0  0.0  0.0  0.0  ...    1.0  0.0  0.0   \n",
      "21   0.0  0.0  0.0  0.0  0.0  0.0  0.0  0.0  0.0  0.0  ...    0.0  0.0  1.0   \n",
      "22   0.0  0.0  0.0  0.0  0.0  0.0  0.0  0.0  0.0  0.0  ...    0.0  0.0  1.0   \n",
      "23   0.0  0.0  0.0  0.0  0.0  0.0  0.0  0.0  1.0  0.0  ...    1.0  0.0  1.0   \n",
      "24   0.0  0.0  0.0  0.0  0.0  0.0  0.0  0.0  0.0  0.0  ...    1.0  0.0  1.0   \n",
      "25   0.0  0.0  0.0  0.0  0.0  0.0  0.0  0.0  0.0  0.0  ...    0.0  0.0  1.0   \n",
      "26   0.0  0.0  0.0  0.0  0.0  0.0  0.0  0.0  0.0  0.0  ...    1.0  0.0  1.0   \n",
      "27   0.0  0.0  0.0  0.0  0.0  0.0  0.0  0.0  0.0  0.0  ...    0.0  0.0  0.0   \n",
      "28   0.0  0.0  0.0  0.0  0.0  0.0  0.0  0.0  0.0  0.0  ...    0.0  0.0  1.0   \n",
      "29   0.0  0.0  0.0  0.0  0.0  0.0  0.0  0.0  0.0  0.0  ...    0.0  0.0  1.0   \n",
      "..   ...  ...  ...  ...  ...  ...  ...  ...  ...  ...  ...    ...  ...  ...   \n",
      "370  0.0  0.0  0.0  0.0  0.0  0.0  0.0  0.0  0.0  0.0  ...    0.0  0.0  1.0   \n",
      "371  0.0  0.0  0.0  0.0  0.0  0.0  0.0  0.0  0.0  0.0  ...    0.0  0.0  1.0   \n",
      "372  0.0  0.0  0.0  0.0  0.0  0.0  0.0  0.0  0.0  0.0  ...    0.0  0.0  1.0   \n",
      "373  0.0  0.0  0.0  0.0  0.0  0.0  0.0  0.0  0.0  0.0  ...    0.0  0.0  1.0   \n",
      "374  0.0  0.0  0.0  0.0  0.0  0.0  0.0  0.0  0.0  0.0  ...    0.0  0.0  1.0   \n",
      "375  0.0  0.0  0.0  0.0  0.0  0.0  0.0  0.0  0.0  0.0  ...    0.0  0.0  1.0   \n",
      "376  0.0  0.0  0.0  0.0  0.0  0.0  0.0  0.0  0.0  0.0  ...    0.0  0.0  1.0   \n",
      "377  0.0  0.0  0.0  0.0  0.0  0.0  0.0  0.0  0.0  0.0  ...    0.0  0.0  1.0   \n",
      "378  0.0  0.0  0.0  0.0  0.0  0.0  0.0  0.0  0.0  0.0  ...    0.0  0.0  1.0   \n",
      "379  0.0  0.0  0.0  0.0  0.0  0.0  0.0  0.0  0.0  0.0  ...    0.0  0.0  1.0   \n",
      "380  0.0  0.0  0.0  0.0  0.0  0.0  0.0  0.0  0.0  0.0  ...    0.0  0.0  1.0   \n",
      "381  0.0  0.0  0.0  0.0  0.0  0.0  0.0  0.0  0.0  0.0  ...    0.0  0.0  1.0   \n",
      "382  0.0  0.0  0.0  0.0  0.0  0.0  0.0  0.0  0.0  0.0  ...    0.0  0.0  1.0   \n",
      "383  0.0  0.0  0.0  0.0  0.0  0.0  0.0  0.0  0.0  0.0  ...    0.0  0.0  1.0   \n",
      "384  0.0  0.0  0.0  0.0  0.0  0.0  0.0  0.0  0.0  0.0  ...    0.0  0.0  1.0   \n",
      "385  0.0  0.0  0.0  0.0  0.0  0.0  0.0  0.0  0.0  0.0  ...    0.0  0.0  1.0   \n",
      "386  0.0  0.0  0.0  0.0  0.0  0.0  0.0  0.0  0.0  0.0  ...    0.0  0.0  1.0   \n",
      "387  0.0  0.0  0.0  1.0  0.0  0.0  0.0  0.0  0.0  0.0  ...    0.0  0.0  1.0   \n",
      "388  0.0  0.0  0.0  0.0  0.0  0.0  0.0  0.0  0.0  0.0  ...    0.0  0.0  1.0   \n",
      "389  0.0  0.0  0.0  0.0  0.0  0.0  0.0  0.0  0.0  0.0  ...    0.0  0.0  1.0   \n",
      "390  0.0  0.0  0.0  0.0  0.0  0.0  0.0  0.0  0.0  0.0  ...    0.0  0.0  1.0   \n",
      "391  0.0  0.0  0.0  0.0  0.0  0.0  0.0  0.0  0.0  0.0  ...    0.0  0.0  1.0   \n",
      "392  0.0  0.0  0.0  0.0  0.0  0.0  0.0  0.0  0.0  0.0  ...    0.0  0.0  1.0   \n",
      "393  0.0  0.0  0.0  0.0  0.0  0.0  0.0  0.0  0.0  0.0  ...    0.0  0.0  1.0   \n",
      "394  0.0  0.0  0.0  0.0  0.0  0.0  0.0  0.0  0.0  0.0  ...    0.0  0.0  1.0   \n",
      "395  0.0  0.0  0.0  0.0  0.0  0.0  0.0  0.0  0.0  0.0  ...    0.0  0.0  1.0   \n",
      "396  0.0  0.0  0.0  0.0  0.0  0.0  0.0  0.0  0.0  0.0  ...    0.0  0.0  1.0   \n",
      "397  0.0  1.0  0.0  0.0  0.0  0.0  0.0  0.0  0.0  0.0  ...    0.0  0.0  1.0   \n",
      "398  0.0  0.0  0.0  0.0  1.0  0.0  0.0  0.0  0.0  0.0  ...    0.0  0.0  1.0   \n",
      "399  0.0  0.0  0.0  0.0  0.0  0.0  0.0  0.0  0.0  0.0  ...    0.0  0.0  1.0   \n",
      "\n",
      "     867  868  869  870  871  872    873  \n",
      "0    0.0  0.0  1.0  0.0  1.0  0.0    0.0  \n",
      "1    0.0  0.0  1.0  0.0  1.0  0.0    1.0  \n",
      "2    0.0  0.0  0.0  1.0  1.0  0.0    2.0  \n",
      "3    1.0  0.0  0.0  1.0  1.0  0.0    3.0  \n",
      "4    0.0  0.0  1.0  0.0  1.0  0.0    4.0  \n",
      "5    1.0  0.0  1.0  0.0  1.0  0.0    5.0  \n",
      "6    0.0  0.0  1.0  0.0  1.0  0.0    6.0  \n",
      "7    1.0  0.0  1.0  0.0  1.0  0.0    7.0  \n",
      "8    0.0  0.0  0.0  1.0  1.0  0.0    8.0  \n",
      "9    0.0  0.0  0.0  1.0  1.0  0.0    9.0  \n",
      "10   0.0  0.0  0.0  1.0  1.0  0.0   10.0  \n",
      "11   1.0  0.0  1.0  0.0  1.0  0.0   11.0  \n",
      "12   1.0  0.0  1.0  0.0  1.0  0.0   12.0  \n",
      "13   1.0  0.0  1.0  0.0  1.0  0.0   13.0  \n",
      "14   1.0  0.0  1.0  0.0  1.0  0.0   14.0  \n",
      "15   0.0  0.0  0.0  1.0  1.0  0.0   15.0  \n",
      "16   0.0  0.0  1.0  0.0  1.0  0.0   16.0  \n",
      "17   0.0  0.0  1.0  0.0  1.0  0.0   17.0  \n",
      "18   0.0  0.0  1.0  0.0  1.0  0.0   18.0  \n",
      "19   0.0  0.0  1.0  0.0  1.0  0.0   19.0  \n",
      "20   1.0  0.0  0.0  1.0  1.0  0.0   20.0  \n",
      "21   0.0  0.0  1.0  0.0  1.0  0.0   21.0  \n",
      "22   0.0  0.0  0.0  1.0  1.0  0.0   22.0  \n",
      "23   0.0  0.0  0.0  1.0  1.0  0.0   23.0  \n",
      "24   0.0  0.0  1.0  0.0  1.0  0.0   24.0  \n",
      "25   0.0  0.0  0.0  1.0  1.0  0.0   25.0  \n",
      "26   0.0  0.0  1.0  0.0  1.0  0.0   26.0  \n",
      "27   1.0  0.0  1.0  0.0  1.0  0.0   27.0  \n",
      "28   0.0  0.0  1.0  0.0  1.0  0.0   28.0  \n",
      "29   0.0  0.0  1.0  0.0  1.0  0.0   29.0  \n",
      "..   ...  ...  ...  ...  ...  ...    ...  \n",
      "370  0.0  0.0  1.0  0.0  0.0  1.0  370.0  \n",
      "371  0.0  0.0  1.0  0.0  0.0  1.0  371.0  \n",
      "372  0.0  0.0  1.0  0.0  0.0  1.0  372.0  \n",
      "373  0.0  0.0  1.0  0.0  0.0  1.0  373.0  \n",
      "374  0.0  0.0  1.0  0.0  0.0  1.0  374.0  \n",
      "375  0.0  0.0  1.0  0.0  0.0  1.0  375.0  \n",
      "376  0.0  0.0  1.0  0.0  0.0  1.0  376.0  \n",
      "377  0.0  0.0  1.0  0.0  0.0  1.0  377.0  \n",
      "378  0.0  0.0  1.0  0.0  0.0  1.0  378.0  \n",
      "379  0.0  0.0  1.0  0.0  0.0  1.0  379.0  \n",
      "380  0.0  0.0  1.0  0.0  0.0  1.0  380.0  \n",
      "381  0.0  0.0  1.0  0.0  0.0  1.0  381.0  \n",
      "382  0.0  0.0  1.0  0.0  0.0  1.0  382.0  \n",
      "383  0.0  0.0  1.0  0.0  0.0  1.0  383.0  \n",
      "384  0.0  0.0  1.0  0.0  0.0  1.0  384.0  \n",
      "385  0.0  0.0  1.0  0.0  0.0  1.0  385.0  \n",
      "386  0.0  0.0  1.0  0.0  0.0  1.0  386.0  \n",
      "387  0.0  0.0  1.0  0.0  0.0  1.0  387.0  \n",
      "388  0.0  0.0  1.0  0.0  0.0  1.0  388.0  \n",
      "389  0.0  0.0  1.0  0.0  0.0  1.0  389.0  \n",
      "390  0.0  0.0  1.0  0.0  0.0  1.0  390.0  \n",
      "391  0.0  0.0  1.0  0.0  0.0  1.0  391.0  \n",
      "392  0.0  0.0  1.0  0.0  0.0  1.0  392.0  \n",
      "393  0.0  0.0  1.0  0.0  0.0  1.0  393.0  \n",
      "394  0.0  0.0  1.0  0.0  0.0  1.0  394.0  \n",
      "395  0.0  0.0  1.0  0.0  0.0  1.0  395.0  \n",
      "396  0.0  0.0  1.0  0.0  0.0  1.0  396.0  \n",
      "397  0.0  0.0  1.0  0.0  0.0  1.0  397.0  \n",
      "398  0.0  0.0  1.0  0.0  0.0  1.0  398.0  \n",
      "399  0.0  0.0  1.0  0.0  0.0  1.0  399.0  \n",
      "\n",
      "[400 rows x 874 columns]\n",
      "(400, 26)\n",
      "(400, 874)\n"
     ]
    }
   ],
   "source": [
    "from sklearn.preprocessing import OneHotEncoder\n",
    "\n",
    "# Create OneHotEncoder: ohe\n",
    "ohe = OneHotEncoder(categorical_features=categorical_mask, sparse=False)\n",
    "\n",
    "# Apply OneHotEncoder to categorical columns - output is no longer a dataframe: df_encoded\n",
    "dd_encoded = ohe.fit_transform(dd)\n",
    "\n",
    "# Print first 5 rows of the resulting dataset - again, this will no longer be a pandas dataframe\n",
    "# print(df_encoded[:5, :])\n",
    "print(pd.DataFrame(dd_encoded))\n",
    "\n",
    "# Print the shape of the original DataFrame\n",
    "print(dd.shape)\n",
    "\n",
    "# Print the shape of the transformed array\n",
    "print(dd_encoded.shape)"
   ]
  },
  {
   "cell_type": "code",
   "execution_count": 40,
   "metadata": {},
   "outputs": [
    {
     "name": "stdout",
     "output_type": "stream",
     "text": [
      "RMSE: 0.175519\n"
     ]
    }
   ],
   "source": [
    "X, y = dd.iloc[:,:-1],dd.iloc[:,-1] \n",
    "X_train, X_test, y_train, y_test= train_test_split(X, y,\n",
    "test_size=0.2, random_state=123)\n",
    "xg_reg = xgb.XGBRegressor(objective='reg:linear',\n",
    "n_estimators=10, seed=123)\n",
    "\n",
    "xg_reg.fit(X_train,y_train)\n",
    "preds = xg_reg.predict(X_test)\n",
    "\n",
    "from sklearn.metrics import mean_squared_error\n",
    "rmse = np.sqrt(mean_squared_error(y_test,preds))\n",
    "print(\"RMSE: %f\" % (rmse))"
   ]
  },
  {
   "cell_type": "code",
   "execution_count": 41,
   "metadata": {},
   "outputs": [
    {
     "data": {
      "text/plain": [
       "0.9625"
      ]
     },
     "execution_count": 41,
     "metadata": {},
     "output_type": "execute_result"
    }
   ],
   "source": [
    "from sklearn.neighbors import KNeighborsClassifier\n",
    "knn=KNeighborsClassifier(n_neighbors=6)\n",
    "knn.fit(X_train,y_train)\n",
    "knn.predict(X_test)\n",
    "knn.score(X_test,y_test)"
   ]
  },
  {
   "cell_type": "code",
   "execution_count": 44,
   "metadata": {},
   "outputs": [
    {
     "data": {
      "text/plain": [
       "1.0"
      ]
     },
     "execution_count": 44,
     "metadata": {},
     "output_type": "execute_result"
    }
   ],
   "source": [
    "from sklearn.tree import DecisionTreeClassifier\n",
    "from sklearn.model_selection import train_test_split\n",
    "X_train,X_test,y_train,y_test=train_test_split(X,y,test_size=.5,random_state=24)\n",
    "                                              \n",
    "                                              \n",
    "dt = DecisionTreeClassifier()\n",
    "dt.fit(X_train,y_train)\n",
    "dt.predict(X_test)\n",
    "dt.score(X_test,y_test)"
   ]
  },
  {
   "cell_type": "code",
   "execution_count": 45,
   "metadata": {},
   "outputs": [
    {
     "data": {
      "text/plain": [
       "0.8113709502018895"
      ]
     },
     "execution_count": 45,
     "metadata": {},
     "output_type": "execute_result"
    }
   ],
   "source": [
    "from sklearn.linear_model import LinearRegression\n",
    "lr=LinearRegression()\n",
    "lr.fit(X_train,y_train)\n",
    "lr.predict(X_test)\n",
    "lr.score(X_test,y_test)"
   ]
  },
  {
   "cell_type": "code",
   "execution_count": null,
   "metadata": {},
   "outputs": [],
   "source": []
  }
 ],
 "metadata": {
  "kernelspec": {
   "display_name": "Python 3",
   "language": "python",
   "name": "python3"
  },
  "language_info": {
   "codemirror_mode": {
    "name": "ipython",
    "version": 3
   },
   "file_extension": ".py",
   "mimetype": "text/x-python",
   "name": "python",
   "nbconvert_exporter": "python",
   "pygments_lexer": "ipython3",
   "version": "3.6.5"
  }
 },
 "nbformat": 4,
 "nbformat_minor": 2
}
