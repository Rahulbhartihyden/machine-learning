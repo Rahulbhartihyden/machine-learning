{
 "cells": [
  {
   "cell_type": "markdown",
   "metadata": {},
   "source": [
    "# assisgnment 2"
   ]
  },
  {
   "cell_type": "markdown",
   "metadata": {},
   "source": [
    "# 1."
   ]
  },
  {
   "cell_type": "code",
   "execution_count": 2,
   "metadata": {},
   "outputs": [],
   "source": [
    "import numpy as np\n",
    "import pandas as pd\n",
    "from random import randint"
   ]
  },
  {
   "cell_type": "code",
   "execution_count": 3,
   "metadata": {},
   "outputs": [
    {
     "data": {
      "text/plain": [
       "array([0., 0., 0., 0., 0., 0., 0., 0., 0., 0.])"
      ]
     },
     "execution_count": 3,
     "metadata": {},
     "output_type": "execute_result"
    }
   ],
   "source": [
    "a=np.zeros(10)\n",
    "a"
   ]
  },
  {
   "cell_type": "markdown",
   "metadata": {},
   "source": [
    "# 2."
   ]
  },
  {
   "cell_type": "code",
   "execution_count": 4,
   "metadata": {},
   "outputs": [
    {
     "data": {
      "text/plain": [
       "array([0., 0., 0., 0., 1., 0., 0., 0., 0., 0.])"
      ]
     },
     "execution_count": 4,
     "metadata": {},
     "output_type": "execute_result"
    }
   ],
   "source": [
    "a=np.zeros(10)\n",
    "a[4]=1\n",
    "a"
   ]
  },
  {
   "cell_type": "markdown",
   "metadata": {},
   "source": [
    "# 3."
   ]
  },
  {
   "cell_type": "code",
   "execution_count": 5,
   "metadata": {},
   "outputs": [
    {
     "data": {
      "text/plain": [
       "array([[0, 1, 2],\n",
       "       [3, 4, 5],\n",
       "       [6, 7, 8]])"
      ]
     },
     "execution_count": 5,
     "metadata": {},
     "output_type": "execute_result"
    }
   ],
   "source": [
    "a=np.arange(0,9).reshape(3,3)\n",
    "a"
   ]
  },
  {
   "cell_type": "markdown",
   "metadata": {},
   "source": [
    "# 4."
   ]
  },
  {
   "cell_type": "code",
   "execution_count": 6,
   "metadata": {},
   "outputs": [
    {
     "data": {
      "text/plain": [
       "array([[[0.63908698, 0.28124649, 0.10981447],\n",
       "        [0.72436361, 0.30294672, 0.4315311 ],\n",
       "        [0.51862404, 0.03478347, 0.25815565]],\n",
       "\n",
       "       [[0.61435871, 0.73432988, 0.55105129],\n",
       "        [0.73976925, 0.08190937, 0.08462448],\n",
       "        [0.26081519, 0.87760698, 0.15544351]],\n",
       "\n",
       "       [[0.79973987, 0.73687652, 0.19908908],\n",
       "        [0.1144398 , 0.30944879, 0.17426791],\n",
       "        [0.0525113 , 0.15481653, 0.09599723]]])"
      ]
     },
     "execution_count": 6,
     "metadata": {},
     "output_type": "execute_result"
    }
   ],
   "source": [
    "a=np.random.random((3,3,3))\n",
    "a"
   ]
  },
  {
   "cell_type": "markdown",
   "metadata": {},
   "source": [
    "# 5."
   ]
  },
  {
   "cell_type": "code",
   "execution_count": 7,
   "metadata": {},
   "outputs": [
    {
     "name": "stdout",
     "output_type": "stream",
     "text": [
      "[[0.91493526 0.30252016 0.75745635]\n",
      " [0.08542514 0.59698236 0.98011098]\n",
      " [0.83148076 0.76166084 0.09045511]\n",
      " [0.07581224 0.98214858 0.90501206]\n",
      " [0.51305502 0.36266271 0.06077878]]\n",
      "[[0.42697978 0.82463103]\n",
      " [0.00768472 0.74084661]\n",
      " [0.78619536 0.36828084]]\n"
     ]
    },
    {
     "data": {
      "text/plain": [
       "array([[0.98849231, 1.25756171],\n",
       "       [0.81162115, 0.87367267],\n",
       "       [0.43199401, 1.28325157],\n",
       "       [0.75143411, 1.12343718],\n",
       "       [0.26963508, 0.71414219]])"
      ]
     },
     "execution_count": 7,
     "metadata": {},
     "output_type": "execute_result"
    }
   ],
   "source": [
    "a=np.random.random((5,3))\n",
    "print(a)\n",
    "b=np.random.random((3,2))\n",
    "print(b)\n",
    "c=np.dot(a,b)\n",
    "c"
   ]
  },
  {
   "cell_type": "code",
   "execution_count": 8,
   "metadata": {},
   "outputs": [
    {
     "data": {
      "text/plain": [
       "array([[0., 1., 2., 3., 4.],\n",
       "       [0., 1., 2., 3., 4.],\n",
       "       [0., 1., 2., 3., 4.],\n",
       "       [0., 1., 2., 3., 4.],\n",
       "       [0., 1., 2., 3., 4.]])"
      ]
     },
     "execution_count": 8,
     "metadata": {},
     "output_type": "execute_result"
    }
   ],
   "source": [
    "a=np.zeros((5,5))\n",
    "a+=np.arange(0,5)\n",
    "a"
   ]
  },
  {
   "cell_type": "code",
   "execution_count": 9,
   "metadata": {},
   "outputs": [
    {
     "name": "stdout",
     "output_type": "stream",
     "text": [
      "[0.32977919 0.39831619 0.98483206 0.24614572 0.78517939 0.7551715\n",
      " 0.63941848 0.2651051  0.44481476 0.96763519]\n",
      "[0.24614572 0.2651051  0.32977919 0.39831619 0.44481476 0.63941848\n",
      " 0.7551715  0.78517939 0.96763519 0.98483206]\n"
     ]
    }
   ],
   "source": [
    "a=np.random.random(10)\n",
    "print(a)\n",
    "a.sort()\n",
    "print(a)"
   ]
  },
  {
   "cell_type": "code",
   "execution_count": 15,
   "metadata": {},
   "outputs": [
    {
     "name": "stdout",
     "output_type": "stream",
     "text": [
      "[[10 20 30]\n",
      " [30 40 50]]\n",
      "[20. 30. 40.]\n",
      "[[ 10.  10.  10.]\n",
      " [-10. -10. -10.]]\n"
     ]
    }
   ],
   "source": [
    "x=np.array([[10,20,30],[30,40,50]])\n",
    "print(x)\n",
    "\n",
    "y=x.mean(axis=0)\n",
    "print(y)\n",
    "\n",
    "z=y-x\n",
    "print(z)"
   ]
  },
  {
   "cell_type": "code",
   "execution_count": 18,
   "metadata": {},
   "outputs": [
    {
     "name": "stdout",
     "output_type": "stream",
     "text": [
      "[[1 2 3]\n",
      " [5 6 7]\n",
      " [7 5 8]]\n",
      "[[3 4 4]\n",
      " [6 7 8]\n",
      " [2 4 5]]\n",
      "[[ 21  30  35]\n",
      " [ 65  90 103]\n",
      " [ 67  95 108]]\n"
     ]
    },
    {
     "data": {
      "text/plain": [
       "array([ 21,  90, 108])"
      ]
     },
     "execution_count": 18,
     "metadata": {},
     "output_type": "execute_result"
    }
   ],
   "source": [
    "x=np.array([[1,2,3],[5,6,7],[7,5,8,]])\n",
    "y=np.array([[3,4,4],[6,7,8],[2,4,5]])\n",
    "print(x)\n",
    "print(y)\n",
    "z=x.dot(y)\n",
    "print(z)\n",
    "np.diagonal(z)"
   ]
  },
  {
   "cell_type": "code",
   "execution_count": 27,
   "metadata": {},
   "outputs": [
    {
     "name": "stdout",
     "output_type": "stream",
     "text": [
      "[0.09745176 0.75750823 0.41070684 0.02304135 0.84280446 0.2459432\n",
      " 0.70842512 0.29800218 0.89416707 0.67005905]\n",
      "[0.02304135 0.09745176 0.2459432  0.29800218 0.41070684 0.67005905\n",
      " 0.70842512 0.75750823 0.84280446 0.89416707]\n"
     ]
    }
   ],
   "source": [
    "x=np.random.random(10)\n",
    "print(x)\n",
    "x.sort()\n",
    "print(x)"
   ]
  },
  {
   "cell_type": "code",
   "execution_count": null,
   "metadata": {},
   "outputs": [],
   "source": []
  }
 ],
 "metadata": {
  "kernelspec": {
   "display_name": "Python 3",
   "language": "python",
   "name": "python3"
  },
  "language_info": {
   "codemirror_mode": {
    "name": "ipython",
    "version": 3
   },
   "file_extension": ".py",
   "mimetype": "text/x-python",
   "name": "python",
   "nbconvert_exporter": "python",
   "pygments_lexer": "ipython3",
   "version": "3.6.5"
  }
 },
 "nbformat": 4,
 "nbformat_minor": 2
}
